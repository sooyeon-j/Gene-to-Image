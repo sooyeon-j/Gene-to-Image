{
 "cells": [
  {
   "cell_type": "code",
   "execution_count": 1,
   "metadata": {},
   "outputs": [],
   "source": [
    "import os\n",
    "import numpy as np\n",
    "import shutil"
   ]
  },
  {
   "cell_type": "code",
   "execution_count": 2,
   "metadata": {},
   "outputs": [],
   "source": [
    "sample_folder_path = '/root/proj3/gan_collection/results/CGAN/Samples'"
   ]
  },
  {
   "cell_type": "code",
   "execution_count": 3,
   "metadata": {},
   "outputs": [],
   "source": [
    "original_folder_path = '/root/proj/dataset/img_all/gray'"
   ]
  },
  {
   "cell_type": "code",
   "execution_count": 32,
   "metadata": {},
   "outputs": [],
   "source": [
    "os.makedirs(os.path.join(sample_folder_path, 'test', 'AD'), exist_ok= True)\n",
    "os.makedirs(os.path.join(sample_folder_path, 'test', 'CN'), exist_ok= True)\n",
    "os.makedirs(os.path.join(sample_folder_path, 'test', 'MCI'), exist_ok= True)"
   ]
  },
  {
   "cell_type": "code",
   "execution_count": 49,
   "metadata": {},
   "outputs": [],
   "source": [
    "sample_folder_list = os.listdir(os.path.join(sample_folder_path, 'CN'))"
   ]
  },
  {
   "cell_type": "code",
   "execution_count": 50,
   "metadata": {},
   "outputs": [
    {
     "data": {
      "text/plain": [
       "2200"
      ]
     },
     "execution_count": 50,
     "metadata": {},
     "output_type": "execute_result"
    }
   ],
   "source": [
    "len(sample_folder_list)"
   ]
  },
  {
   "cell_type": "code",
   "execution_count": 51,
   "metadata": {},
   "outputs": [],
   "source": [
    "original_folder_list = os.listdir(os.path.join(original_folder_path, 'CN'))"
   ]
  },
  {
   "cell_type": "code",
   "execution_count": 52,
   "metadata": {},
   "outputs": [
    {
     "data": {
      "text/plain": [
       "330"
      ]
     },
     "execution_count": 52,
     "metadata": {},
     "output_type": "execute_result"
    }
   ],
   "source": [
    "len(original_folder_list)"
   ]
  },
  {
   "cell_type": "code",
   "execution_count": 53,
   "metadata": {},
   "outputs": [],
   "source": [
    "random_sample_list = np.random.choice(sample_folder_list, 666, False)"
   ]
  },
  {
   "cell_type": "code",
   "execution_count": 54,
   "metadata": {},
   "outputs": [
    {
     "data": {
      "text/plain": [
       "666"
      ]
     },
     "execution_count": 54,
     "metadata": {},
     "output_type": "execute_result"
    }
   ],
   "source": [
    "len(random_sample_list)"
   ]
  },
  {
   "cell_type": "code",
   "execution_count": 55,
   "metadata": {},
   "outputs": [],
   "source": [
    "for i in range(len(random_sample_list)):\n",
    "    src = os.path.join(sample_folder_path, 'CN', random_sample_list[i])\n",
    "    # src = f'./results/Feb07-15:00/samples/Feb08-01:30:53/CN/{random_sample_list[i]}'\n",
    "    dst = os.path.join(sample_folder_path, 'test', 'CN')\n",
    "    # dst = f'./results/Feb07-15:00/samples/Feb07-13:52:36/test/CN'\n",
    "    shutil.copy2(src, dst)"
   ]
  },
  {
   "cell_type": "code",
   "execution_count": 56,
   "metadata": {},
   "outputs": [],
   "source": [
    "for i in range(len(original_folder_list)):\n",
    "    src = os.path.join(original_folder_path, 'CN', original_folder_list[i])\n",
    "    dst = os.path.join(sample_folder_path, 'test', 'CN')\n",
    "    shutil.copy2(src, dst)"
   ]
  },
  {
   "cell_type": "code",
   "execution_count": 57,
   "metadata": {},
   "outputs": [
    {
     "name": "stdout",
     "output_type": "stream",
     "text": [
      "996\n",
      "1162\n",
      "870\n"
     ]
    }
   ],
   "source": [
    "print(len(os.listdir(os.path.join(sample_folder_path, 'test', 'CN'))))\n",
    "print(len(os.listdir(os.path.join(sample_folder_path, 'test', 'MCI'))))\n",
    "print(len(os.listdir(os.path.join(sample_folder_path, 'test', 'AD'))))"
   ]
  }
 ],
 "metadata": {
  "kernelspec": {
   "display_name": "main",
   "language": "python",
   "name": "python3"
  },
  "language_info": {
   "codemirror_mode": {
    "name": "ipython",
    "version": 3
   },
   "file_extension": ".py",
   "mimetype": "text/x-python",
   "name": "python",
   "nbconvert_exporter": "python",
   "pygments_lexer": "ipython3",
   "version": "3.10.9"
  }
 },
 "nbformat": 4,
 "nbformat_minor": 2
}
